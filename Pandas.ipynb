{
 "cells": [
  {
   "cell_type": "code",
   "execution_count": 22,
   "id": "fd00512b",
   "metadata": {},
   "outputs": [],
   "source": [
    "# single-dimensional \n",
    "# series object"
   ]
  },
  {
   "cell_type": "code",
   "execution_count": 23,
   "id": "ca138e72",
   "metadata": {},
   "outputs": [],
   "source": [
    "import pandas as pd"
   ]
  },
  {
   "cell_type": "code",
   "execution_count": 5,
   "id": "60733840",
   "metadata": {},
   "outputs": [
    {
     "data": {
      "text/plain": [
       "0    1\n",
       "1    2\n",
       "2    3\n",
       "3    4\n",
       "4    5\n",
       "dtype: int64"
      ]
     },
     "execution_count": 5,
     "metadata": {},
     "output_type": "execute_result"
    }
   ],
   "source": [
    "s1=pd.Series([1,2,3,4,5])\n",
    "s1"
   ]
  },
  {
   "cell_type": "code",
   "execution_count": 6,
   "id": "bcd46711",
   "metadata": {},
   "outputs": [
    {
     "data": {
      "text/plain": [
       "pandas.core.series.Series"
      ]
     },
     "execution_count": 6,
     "metadata": {},
     "output_type": "execute_result"
    }
   ],
   "source": [
    "type(s1)"
   ]
  },
  {
   "cell_type": "code",
   "execution_count": 8,
   "id": "c3de09cd",
   "metadata": {},
   "outputs": [
    {
     "data": {
      "text/plain": [
       "a    1\n",
       "b    2\n",
       "c    3\n",
       "d    4\n",
       "e    5\n",
       "dtype: int64"
      ]
     },
     "execution_count": 8,
     "metadata": {},
     "output_type": "execute_result"
    }
   ],
   "source": [
    "#index change\n",
    "s1=pd.Series([1,2,3,4,5],index=['a','b','c','d','e'])\n",
    "s1"
   ]
  },
  {
   "cell_type": "code",
   "execution_count": 9,
   "id": "5788c5c0",
   "metadata": {},
   "outputs": [
    {
     "data": {
      "text/plain": [
       "a    10\n",
       "b    20\n",
       "c    30\n",
       "dtype: int64"
      ]
     },
     "execution_count": 9,
     "metadata": {},
     "output_type": "execute_result"
    }
   ],
   "source": [
    "# series object from Dictionary\n",
    "pd.Series({'a':10,'b':20,'c':30})"
   ]
  },
  {
   "cell_type": "code",
   "execution_count": 12,
   "id": "67ba8ef2",
   "metadata": {},
   "outputs": [
    {
     "data": {
      "text/plain": [
       "k     NaN\n",
       "a    10.0\n",
       "c    30.0\n",
       "dtype: float64"
      ]
     },
     "execution_count": 12,
     "metadata": {},
     "output_type": "execute_result"
    }
   ],
   "source": [
    "#index change\n",
    "pd.Series({'a':10,'b':20,'c':30},index=['k','a','c'])"
   ]
  },
  {
   "cell_type": "code",
   "execution_count": 13,
   "id": "0a63309f",
   "metadata": {},
   "outputs": [
    {
     "data": {
      "text/plain": [
       "4"
      ]
     },
     "execution_count": 13,
     "metadata": {},
     "output_type": "execute_result"
    }
   ],
   "source": [
    "# Extracting individual element\n",
    "# single\n",
    "s1=pd.Series([1,2,3,4,5,6,7,8,9])\n",
    "s1[3]"
   ]
  },
  {
   "cell_type": "code",
   "execution_count": 14,
   "id": "d4600f99",
   "metadata": {},
   "outputs": [
    {
     "data": {
      "text/plain": [
       "6    7\n",
       "7    8\n",
       "8    9\n",
       "dtype: int64"
      ]
     },
     "execution_count": 14,
     "metadata": {},
     "output_type": "execute_result"
    }
   ],
   "source": [
    "# element from back\n",
    "s1[-3:]"
   ]
  },
  {
   "cell_type": "code",
   "execution_count": 15,
   "id": "727b5a4f",
   "metadata": {},
   "outputs": [
    {
     "data": {
      "text/plain": [
       "0    1\n",
       "1    2\n",
       "2    3\n",
       "3    4\n",
       "dtype: int64"
      ]
     },
     "execution_count": 15,
     "metadata": {},
     "output_type": "execute_result"
    }
   ],
   "source": [
    "# sequence\n",
    "s1[:4]"
   ]
  },
  {
   "cell_type": "code",
   "execution_count": 16,
   "id": "648eb2c3",
   "metadata": {},
   "outputs": [
    {
     "data": {
      "text/plain": [
       "0     6\n",
       "1     7\n",
       "2     8\n",
       "3     9\n",
       "4    10\n",
       "5    11\n",
       "6    12\n",
       "7    13\n",
       "8    14\n",
       "dtype: int64"
      ]
     },
     "execution_count": 16,
     "metadata": {},
     "output_type": "execute_result"
    }
   ],
   "source": [
    "# math operations\n",
    "s1+5"
   ]
  },
  {
   "cell_type": "code",
   "execution_count": 17,
   "id": "d6c9aebd",
   "metadata": {},
   "outputs": [
    {
     "data": {
      "text/plain": [
       "0    10\n",
       "1    20\n",
       "2    30\n",
       "3    40\n",
       "4    50\n",
       "5    11\n",
       "6    22\n",
       "7    33\n",
       "8    11\n",
       "dtype: int64"
      ]
     },
     "execution_count": 17,
     "metadata": {},
     "output_type": "execute_result"
    }
   ],
   "source": [
    "s2=pd.Series([10,20,30,40,50,11,22,33,11])\n",
    "s2"
   ]
  },
  {
   "cell_type": "code",
   "execution_count": 18,
   "id": "7d96d4a4",
   "metadata": {},
   "outputs": [
    {
     "data": {
      "text/plain": [
       "0    11\n",
       "1    22\n",
       "2    33\n",
       "3    44\n",
       "4    55\n",
       "5    17\n",
       "6    29\n",
       "7    41\n",
       "8    20\n",
       "dtype: int64"
      ]
     },
     "execution_count": 18,
     "metadata": {},
     "output_type": "execute_result"
    }
   ],
   "source": [
    "s1+s2"
   ]
  },
  {
   "cell_type": "code",
   "execution_count": 19,
   "id": "c553f840",
   "metadata": {},
   "outputs": [],
   "source": [
    "# multi-dimensional\n",
    "# data frame"
   ]
  },
  {
   "cell_type": "code",
   "execution_count": 25,
   "id": "8fc6dfe9",
   "metadata": {},
   "outputs": [],
   "source": [
    "s3=pd.DataFrame({\"Name\":[\"Rishav\",\"Utkarsh\",\"Shivam\"],\"Marks\":[85,88,84]})"
   ]
  },
  {
   "cell_type": "code",
   "execution_count": 26,
   "id": "d573bdd1",
   "metadata": {},
   "outputs": [
    {
     "data": {
      "text/html": [
       "<div>\n",
       "<style scoped>\n",
       "    .dataframe tbody tr th:only-of-type {\n",
       "        vertical-align: middle;\n",
       "    }\n",
       "\n",
       "    .dataframe tbody tr th {\n",
       "        vertical-align: top;\n",
       "    }\n",
       "\n",
       "    .dataframe thead th {\n",
       "        text-align: right;\n",
       "    }\n",
       "</style>\n",
       "<table border=\"1\" class=\"dataframe\">\n",
       "  <thead>\n",
       "    <tr style=\"text-align: right;\">\n",
       "      <th></th>\n",
       "      <th>Name</th>\n",
       "      <th>Marks</th>\n",
       "    </tr>\n",
       "  </thead>\n",
       "  <tbody>\n",
       "    <tr>\n",
       "      <th>0</th>\n",
       "      <td>Rishav</td>\n",
       "      <td>85</td>\n",
       "    </tr>\n",
       "    <tr>\n",
       "      <th>1</th>\n",
       "      <td>Utkarsh</td>\n",
       "      <td>88</td>\n",
       "    </tr>\n",
       "    <tr>\n",
       "      <th>2</th>\n",
       "      <td>Shivam</td>\n",
       "      <td>84</td>\n",
       "    </tr>\n",
       "  </tbody>\n",
       "</table>\n",
       "</div>"
      ],
      "text/plain": [
       "      Name  Marks\n",
       "0   Rishav     85\n",
       "1  Utkarsh     88\n",
       "2   Shivam     84"
      ]
     },
     "execution_count": 26,
     "metadata": {},
     "output_type": "execute_result"
    }
   ],
   "source": [
    "s3"
   ]
  },
  {
   "cell_type": "code",
   "execution_count": 27,
   "id": "9c05b174",
   "metadata": {},
   "outputs": [
    {
     "data": {
      "text/plain": [
       "pandas.core.frame.DataFrame"
      ]
     },
     "execution_count": 27,
     "metadata": {},
     "output_type": "execute_result"
    }
   ],
   "source": [
    "type(s3)"
   ]
  },
  {
   "cell_type": "code",
   "execution_count": null,
   "id": "b36011ba",
   "metadata": {},
   "outputs": [],
   "source": [
    "q=pd.read_csv('q.csv')# if any file save"
   ]
  },
  {
   "cell_type": "code",
   "execution_count": null,
   "id": "24e9975b",
   "metadata": {},
   "outputs": [],
   "source": [
    "q.head()# show this file in head side"
   ]
  },
  {
   "cell_type": "code",
   "execution_count": null,
   "id": "f33c3c2d",
   "metadata": {},
   "outputs": [],
   "source": [
    "q.tail()# show this file in tail side"
   ]
  },
  {
   "cell_type": "code",
   "execution_count": null,
   "id": "723642b2",
   "metadata": {},
   "outputs": [],
   "source": [
    "q.shape()# show this file shape"
   ]
  },
  {
   "cell_type": "code",
   "execution_count": null,
   "id": "2a34d099",
   "metadata": {},
   "outputs": [],
   "source": [
    "q.describe() # describe the all data"
   ]
  },
  {
   "cell_type": "code",
   "execution_count": null,
   "id": "2b2c567b",
   "metadata": {},
   "outputs": [],
   "source": [
    "q.iloc[0:3,0:2]"
   ]
  },
  {
   "cell_type": "code",
   "execution_count": null,
   "id": "9f91a27c",
   "metadata": {},
   "outputs": [],
   "source": [
    "q.loc[10,20,('Sepal.Length','Petal.Length')]"
   ]
  },
  {
   "cell_type": "code",
   "execution_count": null,
   "id": "501e075e",
   "metadata": {},
   "outputs": [],
   "source": [
    "q.drop('Sepal Length',axis=1)"
   ]
  },
  {
   "cell_type": "code",
   "execution_count": null,
   "id": "8fba76e1",
   "metadata": {},
   "outputs": [],
   "source": [
    "q.drop([1,2,3],axis=0)"
   ]
  },
  {
   "cell_type": "code",
   "execution_count": null,
   "id": "cc714011",
   "metadata": {},
   "outputs": [],
   "source": [
    "q.min()"
   ]
  },
  {
   "cell_type": "code",
   "execution_count": null,
   "id": "2e543f73",
   "metadata": {},
   "outputs": [],
   "source": [
    "q.mean()"
   ]
  },
  {
   "cell_type": "code",
   "execution_count": null,
   "id": "85e43fd8",
   "metadata": {},
   "outputs": [],
   "source": [
    "q.median()"
   ]
  },
  {
   "cell_type": "code",
   "execution_count": null,
   "id": "b2239ae2",
   "metadata": {},
   "outputs": [],
   "source": [
    "q.max()"
   ]
  }
 ],
 "metadata": {
  "kernelspec": {
   "display_name": "Python 3 (ipykernel)",
   "language": "python",
   "name": "python3"
  },
  "language_info": {
   "codemirror_mode": {
    "name": "ipython",
    "version": 3
   },
   "file_extension": ".py",
   "mimetype": "text/x-python",
   "name": "python",
   "nbconvert_exporter": "python",
   "pygments_lexer": "ipython3",
   "version": "3.9.12"
  }
 },
 "nbformat": 4,
 "nbformat_minor": 5
}
